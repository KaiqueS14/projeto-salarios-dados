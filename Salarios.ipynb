{
  "nbformat": 4,
  "nbformat_minor": 0,
  "metadata": {
    "colab": {
      "name": "Salarios.ipynb",
      "provenance": [],
      "authorship_tag": "ABX9TyMFPLiO9HicnYFq/ubxMfH4",
      "include_colab_link": true
    },
    "kernelspec": {
      "name": "python3",
      "display_name": "Python 3"
    },
    "language_info": {
      "name": "python"
    }
  },
  "cells": [
    {
      "cell_type": "markdown",
      "metadata": {
        "id": "view-in-github",
        "colab_type": "text"
      },
      "source": [
        "<a href=\"https://colab.research.google.com/github/KaiqueS14/projeto-salarios-dados/blob/main/Salarios.ipynb\" target=\"_parent\"><img src=\"https://colab.research.google.com/assets/colab-badge.svg\" alt=\"Open In Colab\"/></a>"
      ]
    },
    {
      "cell_type": "markdown",
      "metadata": {
        "id": "FhP6my0BYZHd"
      },
      "source": [
        "### **Carregar as bibliotecas**"
      ]
    },
    {
      "cell_type": "code",
      "metadata": {
        "id": "ernmdbgFYlyL"
      },
      "source": [
        "import pandas as pd"
      ],
      "execution_count": null,
      "outputs": []
    },
    {
      "cell_type": "markdown",
      "metadata": {
        "id": "U-p3yxNrYyLR"
      },
      "source": [
        "###**Carregar a tabela e analisar a estrutura dos dados**"
      ]
    },
    {
      "cell_type": "code",
      "metadata": {
        "colab": {
          "base_uri": "https://localhost:8080/",
          "height": 761
        },
        "id": "vqrXLJO5YNzs",
        "outputId": "982cbee9-37a0-42ef-e903-049df7d48c32"
      },
      "source": [
        "df = pd.read_csv('webscraping.csv')\n",
        "df.head(10)"
      ],
      "execution_count": null,
      "outputs": [
        {
          "output_type": "execute_result",
          "data": {
            "text/html": [
              "<div>\n",
              "<style scoped>\n",
              "    .dataframe tbody tr th:only-of-type {\n",
              "        vertical-align: middle;\n",
              "    }\n",
              "\n",
              "    .dataframe tbody tr th {\n",
              "        vertical-align: top;\n",
              "    }\n",
              "\n",
              "    .dataframe thead th {\n",
              "        text-align: right;\n",
              "    }\n",
              "</style>\n",
              "<table border=\"1\" class=\"dataframe\">\n",
              "  <thead>\n",
              "    <tr style=\"text-align: right;\">\n",
              "      <th></th>\n",
              "      <th>JobTitle</th>\n",
              "      <th>Company</th>\n",
              "      <th>Location</th>\n",
              "      <th>PostDate</th>\n",
              "      <th>ExtractDate</th>\n",
              "      <th>Summary</th>\n",
              "      <th>Salary</th>\n",
              "    </tr>\n",
              "  </thead>\n",
              "  <tbody>\n",
              "    <tr>\n",
              "      <th>0</th>\n",
              "      <td>novaEstágio em Business Intelligence | Foco em...</td>\n",
              "      <td>BETC HAVAS</td>\n",
              "      <td>São Paulo, SP</td>\n",
              "      <td>há 2 dias</td>\n",
              "      <td>2021-10-18</td>\n",
              "      <td>Montar relatórios em apresentação, planilha ou...</td>\n",
              "      <td>Não informado</td>\n",
              "    </tr>\n",
              "    <tr>\n",
              "      <th>1</th>\n",
              "      <td>novaEstágio em Business Intelligence</td>\n",
              "      <td>General Electric</td>\n",
              "      <td>São Paulo, SP</td>\n",
              "      <td>há 2 dias</td>\n",
              "      <td>2021-10-18</td>\n",
              "      <td>Será membro ativo do grupo de Business Intelli...</td>\n",
              "      <td>Não informado</td>\n",
              "    </tr>\n",
              "    <tr>\n",
              "      <th>2</th>\n",
              "      <td>novaAnalista de Business Intelligence</td>\n",
              "      <td>Sala Servicos e Comércio de Artigos de Joalher...</td>\n",
              "      <td>São Paulo, SP</td>\n",
              "      <td>há 3 dias</td>\n",
              "      <td>2021-10-18</td>\n",
              "      <td>; Limpeza de dados (identificação, correção de...</td>\n",
              "      <td>R$ 2.585 - R$ 7.233 por mês</td>\n",
              "    </tr>\n",
              "    <tr>\n",
              "      <th>3</th>\n",
              "      <td>Estagiário de Business Intelligence (BI)</td>\n",
              "      <td>Mobly</td>\n",
              "      <td>São Paulo, SP</td>\n",
              "      <td>há 30+ dias</td>\n",
              "      <td>2021-10-18</td>\n",
              "      <td>VAGA PARA TRABALHO REMOTO A Mobly é uma empres...</td>\n",
              "      <td>Não informado</td>\n",
              "    </tr>\n",
              "    <tr>\n",
              "      <th>4</th>\n",
              "      <td>Analista de Business Intelligence Júnior</td>\n",
              "      <td>Mirum</td>\n",
              "      <td>São Paulo, SP</td>\n",
              "      <td>há 23 dias</td>\n",
              "      <td>2021-10-18</td>\n",
              "      <td>Nesse período de pandemia estamos trabalhando ...</td>\n",
              "      <td>Não informado</td>\n",
              "    </tr>\n",
              "    <tr>\n",
              "      <th>5</th>\n",
              "      <td>Estágio em Business Intelligence</td>\n",
              "      <td>Padtec</td>\n",
              "      <td>Campinas, SP</td>\n",
              "      <td>há 30 dias</td>\n",
              "      <td>2021-10-18</td>\n",
              "      <td>Transformar dados em informações/apresentações...</td>\n",
              "      <td>Não informado</td>\n",
              "    </tr>\n",
              "    <tr>\n",
              "      <th>6</th>\n",
              "      <td>Analista de Business Intelligence</td>\n",
              "      <td>Ara Vartanian</td>\n",
              "      <td>São Paulo, SP</td>\n",
              "      <td>há 30+ dias</td>\n",
              "      <td>2021-10-18</td>\n",
              "      <td>; Limpeza de dados (identificação, correção de...</td>\n",
              "      <td>R$ 3.500 - R$ 5.000 por mês</td>\n",
              "    </tr>\n",
              "    <tr>\n",
              "      <th>7</th>\n",
              "      <td>Analista de Business Intelligence - Maracaí</td>\n",
              "      <td>Jobbol</td>\n",
              "      <td>Assis, SP+1 local</td>\n",
              "      <td>há 12 dias</td>\n",
              "      <td>2021-10-18</td>\n",
              "      <td>Empresa de Agronegócios admite Analista de Bus...</td>\n",
              "      <td>Não informado</td>\n",
              "    </tr>\n",
              "    <tr>\n",
              "      <th>8</th>\n",
              "      <td>Analista de Business Intelligence</td>\n",
              "      <td>Mundial Logistics Group</td>\n",
              "      <td>Guarulhos, SP</td>\n",
              "      <td>há 17 dias</td>\n",
              "      <td>2021-10-18</td>\n",
              "      <td>Necessária experiência, formação em Administra...</td>\n",
              "      <td>R$ 3.000 - R$ 4.000 por mês</td>\n",
              "    </tr>\n",
              "    <tr>\n",
              "      <th>9</th>\n",
              "      <td>Estagiário de Business Intelligence</td>\n",
              "      <td>Evino</td>\n",
              "      <td>São Paulo, SP</td>\n",
              "      <td>há 27 dias</td>\n",
              "      <td>2021-10-18</td>\n",
              "      <td>Participar das cerimônias de priorização / pla...</td>\n",
              "      <td>Não informado</td>\n",
              "    </tr>\n",
              "  </tbody>\n",
              "</table>\n",
              "</div>"
            ],
            "text/plain": [
              "                                            JobTitle  ...                       Salary\n",
              "0  novaEstágio em Business Intelligence | Foco em...  ...                Não informado\n",
              "1               novaEstágio em Business Intelligence  ...                Não informado\n",
              "2              novaAnalista de Business Intelligence  ...  R$ 2.585 - R$ 7.233 por mês\n",
              "3           Estagiário de Business Intelligence (BI)  ...                Não informado\n",
              "4           Analista de Business Intelligence Júnior  ...                Não informado\n",
              "5                   Estágio em Business Intelligence  ...                Não informado\n",
              "6                  Analista de Business Intelligence  ...  R$ 3.500 - R$ 5.000 por mês\n",
              "7        Analista de Business Intelligence - Maracaí  ...                Não informado\n",
              "8                  Analista de Business Intelligence  ...  R$ 3.000 - R$ 4.000 por mês\n",
              "9                Estagiário de Business Intelligence  ...                Não informado\n",
              "\n",
              "[10 rows x 7 columns]"
            ]
          },
          "metadata": {},
          "execution_count": 18
        }
      ]
    },
    {
      "cell_type": "markdown",
      "metadata": {
        "id": "oOyhTmwaZpOr"
      },
      "source": [
        "####Quantidade de linhas e colunas"
      ]
    },
    {
      "cell_type": "code",
      "metadata": {
        "colab": {
          "base_uri": "https://localhost:8080/"
        },
        "id": "LakbXP4RYnPM",
        "outputId": "0de59bdf-367e-4be8-a54d-bcd34d5f6841"
      },
      "source": [
        "df.shape"
      ],
      "execution_count": null,
      "outputs": [
        {
          "output_type": "execute_result",
          "data": {
            "text/plain": [
              "(837, 7)"
            ]
          },
          "metadata": {},
          "execution_count": 14
        }
      ]
    },
    {
      "cell_type": "markdown",
      "metadata": {
        "id": "kQsBme7oZt7X"
      },
      "source": [
        "####Tipagem de cada coluna"
      ]
    },
    {
      "cell_type": "code",
      "metadata": {
        "colab": {
          "base_uri": "https://localhost:8080/"
        },
        "id": "Hmc7FUt4ZA-l",
        "outputId": "0336096f-d06c-4180-c4d3-4ec8ef7d4227"
      },
      "source": [
        "df.info()"
      ],
      "execution_count": null,
      "outputs": [
        {
          "output_type": "stream",
          "name": "stdout",
          "text": [
            "<class 'pandas.core.frame.DataFrame'>\n",
            "RangeIndex: 837 entries, 0 to 836\n",
            "Data columns (total 7 columns):\n",
            " #   Column       Non-Null Count  Dtype \n",
            "---  ------       --------------  ----- \n",
            " 0   JobTitle     837 non-null    object\n",
            " 1   Company      837 non-null    object\n",
            " 2   Location     837 non-null    object\n",
            " 3   PostDate     837 non-null    object\n",
            " 4   ExtractDate  837 non-null    object\n",
            " 5   Summary      837 non-null    object\n",
            " 6   Salary       837 non-null    object\n",
            "dtypes: object(7)\n",
            "memory usage: 45.9+ KB\n"
          ]
        }
      ]
    },
    {
      "cell_type": "markdown",
      "metadata": {
        "id": "z3XyVxdeaY25"
      },
      "source": [
        "### **Tratamento da Tabela**"
      ]
    },
    {
      "cell_type": "markdown",
      "metadata": {
        "id": "zL6033Yafd3y"
      },
      "source": [
        "#### Transformar todas as colunas para letras maiusculas, facilitando a identificação de linhas duplicadas\n"
      ]
    },
    {
      "cell_type": "code",
      "metadata": {
        "id": "JHGHKjikfPZo"
      },
      "source": [
        "for coluna in df:\n",
        "  df[coluna] = df[coluna].str.upper()"
      ],
      "execution_count": null,
      "outputs": []
    },
    {
      "cell_type": "markdown",
      "metadata": {
        "id": "UKHJ46Y8f17c"
      },
      "source": [
        "#### Identificando a existência de linhas duplicadas"
      ]
    },
    {
      "cell_type": "code",
      "metadata": {
        "colab": {
          "base_uri": "https://localhost:8080/",
          "height": 805
        },
        "id": "bkbcjhLnf0rb",
        "outputId": "63fd38b3-5475-4733-f8df-f9264d650ed2"
      },
      "source": [
        "df.loc[df.duplicated()]"
      ],
      "execution_count": null,
      "outputs": [
        {
          "output_type": "execute_result",
          "data": {
            "text/html": [
              "<div>\n",
              "<style scoped>\n",
              "    .dataframe tbody tr th:only-of-type {\n",
              "        vertical-align: middle;\n",
              "    }\n",
              "\n",
              "    .dataframe tbody tr th {\n",
              "        vertical-align: top;\n",
              "    }\n",
              "\n",
              "    .dataframe thead th {\n",
              "        text-align: right;\n",
              "    }\n",
              "</style>\n",
              "<table border=\"1\" class=\"dataframe\">\n",
              "  <thead>\n",
              "    <tr style=\"text-align: right;\">\n",
              "      <th></th>\n",
              "      <th>JobTitle</th>\n",
              "      <th>Company</th>\n",
              "      <th>Location</th>\n",
              "      <th>PostDate</th>\n",
              "      <th>ExtractDate</th>\n",
              "      <th>Summary</th>\n",
              "      <th>Salary</th>\n",
              "    </tr>\n",
              "  </thead>\n",
              "  <tbody>\n",
              "    <tr>\n",
              "      <th>15</th>\n",
              "      <td>GERENTE DE BUSINESS INTELLIGENCE</td>\n",
              "      <td>EDUZZ</td>\n",
              "      <td>SOROCABA, SP</td>\n",
              "      <td>HÁ 30+ DIAS</td>\n",
              "      <td>2021-10-18</td>\n",
              "      <td>DESENHAR A ESTRUTURA DE DADOS UTILIZADA PARA O...</td>\n",
              "      <td>NÃO INFORMADO</td>\n",
              "    </tr>\n",
              "    <tr>\n",
              "      <th>60</th>\n",
              "      <td>BANCO ORIGINAL - ESPECIALISTA EM BUSINESS INTE...</td>\n",
              "      <td>ORIGINAL</td>\n",
              "      <td>SÃO PAULO, SP</td>\n",
              "      <td>HÁ 30+ DIAS</td>\n",
              "      <td>2021-10-18</td>\n",
              "      <td>SÃO MÃO NA MASSA E BUSCAM SEMPRE SER O MELHOR ...</td>\n",
              "      <td>NÃO INFORMADO</td>\n",
              "    </tr>\n",
              "    <tr>\n",
              "      <th>61</th>\n",
              "      <td>NOVABUSINESS ANALYST</td>\n",
              "      <td>IBM</td>\n",
              "      <td>SÃO PAULO, SP</td>\n",
              "      <td>HÁ 4 DIAS</td>\n",
              "      <td>2021-10-18</td>\n",
              "      <td>BE READY TO NAVIGATE THE COMPLEX RELATIONSHIPS...</td>\n",
              "      <td>NÃO INFORMADO</td>\n",
              "    </tr>\n",
              "    <tr>\n",
              "      <th>105</th>\n",
              "      <td>NOVAESTÁGIO EM PESQUISA DE PÓS-GRADUAÇÃO</td>\n",
              "      <td>IBM</td>\n",
              "      <td>SÃO PAULO, SP</td>\n",
              "      <td>HÁ 4 DIAS</td>\n",
              "      <td>2021-10-18</td>\n",
              "      <td>TO THINK ALONG WITH CLIENTS AND SELL. THE INTE...</td>\n",
              "      <td>NÃO INFORMADO</td>\n",
              "    </tr>\n",
              "    <tr>\n",
              "      <th>106</th>\n",
              "      <td>ARTIFICIAL INTELLIGENCE INTERN</td>\n",
              "      <td>INTEL</td>\n",
              "      <td>SÃO PAULO, SP</td>\n",
              "      <td>HÁ 16 DIAS</td>\n",
              "      <td>2021-10-18</td>\n",
              "      <td>INTEL'S SALES AND MARKETING (SMG) ORGANIZATION...</td>\n",
              "      <td>NÃO INFORMADO</td>\n",
              "    </tr>\n",
              "    <tr>\n",
              "      <th>...</th>\n",
              "      <td>...</td>\n",
              "      <td>...</td>\n",
              "      <td>...</td>\n",
              "      <td>...</td>\n",
              "      <td>...</td>\n",
              "      <td>...</td>\n",
              "      <td>...</td>\n",
              "    </tr>\n",
              "    <tr>\n",
              "      <th>814</th>\n",
              "      <td>LATAM ANALYTICS &amp; OPERATIONS MANAGER, DRIVER</td>\n",
              "      <td>UBER</td>\n",
              "      <td>OSASCO, SP</td>\n",
              "      <td>HÁ 30+ DIAS</td>\n",
              "      <td>2021-10-18</td>\n",
              "      <td>ENCOURAGING INFORMATION TO STAKEHOLDERS AND RE...</td>\n",
              "      <td>NÃO INFORMADO</td>\n",
              "    </tr>\n",
              "    <tr>\n",
              "      <th>829</th>\n",
              "      <td>GERENTE DE AUDITORIA CORPORATIVA DE TI</td>\n",
              "      <td>AMANCO WAVIN</td>\n",
              "      <td>SÃO PAULO, SP</td>\n",
              "      <td>HÁ 30+ DIAS</td>\n",
              "      <td>2021-10-18</td>\n",
              "      <td>GERENCIAR A FUNÇÃO DE AUDITORIA DE TI COM AMPL...</td>\n",
              "      <td>R$ 200.000 - R$ 250.000 POR ANO</td>\n",
              "    </tr>\n",
              "    <tr>\n",
              "      <th>830</th>\n",
              "      <td>ANALISTA DE BI SAP SAC PLANNING - SÊNIOR</td>\n",
              "      <td>NUMEN</td>\n",
              "      <td>SÃO PAULO, SP</td>\n",
              "      <td>HÁ 30+ DIAS</td>\n",
              "      <td>2021-10-18</td>\n",
              "      <td>BUSCAM COMPROMETIMENTO E EXCELÊNCIA EM SUAS EN...</td>\n",
              "      <td>NÃO INFORMADO</td>\n",
              "    </tr>\n",
              "    <tr>\n",
              "      <th>831</th>\n",
              "      <td>SECURITY ARCHITECT - SENIOR</td>\n",
              "      <td>IBM</td>\n",
              "      <td>SÃO PAULO, SP</td>\n",
              "      <td>HÁ 29 DIAS</td>\n",
              "      <td>2021-10-18</td>\n",
              "      <td>DEVELOP TECHNICAL AND COMMERCIAL PROPOSAL, COS...</td>\n",
              "      <td>NÃO INFORMADO</td>\n",
              "    </tr>\n",
              "    <tr>\n",
              "      <th>832</th>\n",
              "      <td>GERENTE DE AUDITORIA CORPORATIVA DE TI</td>\n",
              "      <td>AMANCO WAVIN</td>\n",
              "      <td>SÃO PAULO, SP</td>\n",
              "      <td>HÁ 30+ DIAS</td>\n",
              "      <td>2021-10-18</td>\n",
              "      <td>GERENCIAR A FUNÇÃO DE AUDITORIA DE TI COM AMPL...</td>\n",
              "      <td>R$ 200.000 - R$ 250.000 POR ANO</td>\n",
              "    </tr>\n",
              "  </tbody>\n",
              "</table>\n",
              "<p>74 rows × 7 columns</p>\n",
              "</div>"
            ],
            "text/plain": [
              "                                              JobTitle  ...                           Salary\n",
              "15                    GERENTE DE BUSINESS INTELLIGENCE  ...                    NÃO INFORMADO\n",
              "60   BANCO ORIGINAL - ESPECIALISTA EM BUSINESS INTE...  ...                    NÃO INFORMADO\n",
              "61                                NOVABUSINESS ANALYST  ...                    NÃO INFORMADO\n",
              "105           NOVAESTÁGIO EM PESQUISA DE PÓS-GRADUAÇÃO  ...                    NÃO INFORMADO\n",
              "106                     ARTIFICIAL INTELLIGENCE INTERN  ...                    NÃO INFORMADO\n",
              "..                                                 ...  ...                              ...\n",
              "814       LATAM ANALYTICS & OPERATIONS MANAGER, DRIVER  ...                    NÃO INFORMADO\n",
              "829             GERENTE DE AUDITORIA CORPORATIVA DE TI  ...  R$ 200.000 - R$ 250.000 POR ANO\n",
              "830           ANALISTA DE BI SAP SAC PLANNING - SÊNIOR  ...                    NÃO INFORMADO\n",
              "831                        SECURITY ARCHITECT - SENIOR  ...                    NÃO INFORMADO\n",
              "832             GERENTE DE AUDITORIA CORPORATIVA DE TI  ...  R$ 200.000 - R$ 250.000 POR ANO\n",
              "\n",
              "[74 rows x 7 columns]"
            ]
          },
          "metadata": {},
          "execution_count": 28
        }
      ]
    },
    {
      "cell_type": "code",
      "metadata": {
        "colab": {
          "base_uri": "https://localhost:8080/"
        },
        "id": "ruAo2z9ghRIj",
        "outputId": "134645c5-9dde-4cf0-ab94-c2d2f697cb9a"
      },
      "source": [
        "qtd_duplicidades = df.loc[df.duplicated()].shape[0]\n",
        "qtd_total = df.shape[0]\n",
        "percentual_duplicidades = round(qtd_duplicidades/qtd_total,2)\n",
        "\n",
        "print('Identificado um total de', qtd_duplicidades, 'linhas duplicadas. Isso representa', \n",
        "      100-percentual_duplicidades,'% de aproveitamento do dataset')"
      ],
      "execution_count": null,
      "outputs": [
        {
          "output_type": "stream",
          "name": "stdout",
          "text": [
            "Identificado um total de 74 linhas duplicadas. Isso representa 99.91 % de aproveitamento do dataset\n"
          ]
        }
      ]
    },
    {
      "cell_type": "markdown",
      "metadata": {
        "id": "G1xQWZe9iysc"
      },
      "source": [
        "#### Criar novo df sem as duplicidades"
      ]
    },
    {
      "cell_type": "code",
      "metadata": {
        "colab": {
          "base_uri": "https://localhost:8080/"
        },
        "id": "KtR6ULrsi5_2",
        "outputId": "2fbbc450-3f53-43f0-fda1-ed5d51ce6176"
      },
      "source": [
        "df_1 = df.drop_duplicates()\n",
        "df_1.shape"
      ],
      "execution_count": null,
      "outputs": [
        {
          "output_type": "execute_result",
          "data": {
            "text/plain": [
              "(763, 7)"
            ]
          },
          "metadata": {},
          "execution_count": 42
        }
      ]
    },
    {
      "cell_type": "code",
      "metadata": {
        "colab": {
          "base_uri": "https://localhost:8080/",
          "height": 431
        },
        "id": "wpTftWZqkaAp",
        "outputId": "49dee211-a72d-45ad-8c13-05db8f13a406"
      },
      "source": [
        "df_1.head()"
      ],
      "execution_count": null,
      "outputs": [
        {
          "output_type": "execute_result",
          "data": {
            "text/html": [
              "<div>\n",
              "<style scoped>\n",
              "    .dataframe tbody tr th:only-of-type {\n",
              "        vertical-align: middle;\n",
              "    }\n",
              "\n",
              "    .dataframe tbody tr th {\n",
              "        vertical-align: top;\n",
              "    }\n",
              "\n",
              "    .dataframe thead th {\n",
              "        text-align: right;\n",
              "    }\n",
              "</style>\n",
              "<table border=\"1\" class=\"dataframe\">\n",
              "  <thead>\n",
              "    <tr style=\"text-align: right;\">\n",
              "      <th></th>\n",
              "      <th>JobTitle</th>\n",
              "      <th>Company</th>\n",
              "      <th>Location</th>\n",
              "      <th>PostDate</th>\n",
              "      <th>ExtractDate</th>\n",
              "      <th>Summary</th>\n",
              "      <th>Salary</th>\n",
              "    </tr>\n",
              "  </thead>\n",
              "  <tbody>\n",
              "    <tr>\n",
              "      <th>0</th>\n",
              "      <td>NOVAESTÁGIO EM BUSINESS INTELLIGENCE | FOCO EM...</td>\n",
              "      <td>BETC HAVAS</td>\n",
              "      <td>SÃO PAULO, SP</td>\n",
              "      <td>HÁ 2 DIAS</td>\n",
              "      <td>2021-10-18</td>\n",
              "      <td>MONTAR RELATÓRIOS EM APRESENTAÇÃO, PLANILHA OU...</td>\n",
              "      <td>NÃO INFORMADO</td>\n",
              "    </tr>\n",
              "    <tr>\n",
              "      <th>1</th>\n",
              "      <td>NOVAESTÁGIO EM BUSINESS INTELLIGENCE</td>\n",
              "      <td>GENERAL ELECTRIC</td>\n",
              "      <td>SÃO PAULO, SP</td>\n",
              "      <td>HÁ 2 DIAS</td>\n",
              "      <td>2021-10-18</td>\n",
              "      <td>SERÁ MEMBRO ATIVO DO GRUPO DE BUSINESS INTELLI...</td>\n",
              "      <td>NÃO INFORMADO</td>\n",
              "    </tr>\n",
              "    <tr>\n",
              "      <th>2</th>\n",
              "      <td>NOVAANALISTA DE BUSINESS INTELLIGENCE</td>\n",
              "      <td>SALA SERVICOS E COMÉRCIO DE ARTIGOS DE JOALHER...</td>\n",
              "      <td>SÃO PAULO, SP</td>\n",
              "      <td>HÁ 3 DIAS</td>\n",
              "      <td>2021-10-18</td>\n",
              "      <td>; LIMPEZA DE DADOS (IDENTIFICAÇÃO, CORREÇÃO DE...</td>\n",
              "      <td>R$ 2.585 - R$ 7.233 POR MÊS</td>\n",
              "    </tr>\n",
              "    <tr>\n",
              "      <th>3</th>\n",
              "      <td>ESTAGIÁRIO DE BUSINESS INTELLIGENCE (BI)</td>\n",
              "      <td>MOBLY</td>\n",
              "      <td>SÃO PAULO, SP</td>\n",
              "      <td>HÁ 30+ DIAS</td>\n",
              "      <td>2021-10-18</td>\n",
              "      <td>VAGA PARA TRABALHO REMOTO A MOBLY É UMA EMPRES...</td>\n",
              "      <td>NÃO INFORMADO</td>\n",
              "    </tr>\n",
              "    <tr>\n",
              "      <th>4</th>\n",
              "      <td>ANALISTA DE BUSINESS INTELLIGENCE JÚNIOR</td>\n",
              "      <td>MIRUM</td>\n",
              "      <td>SÃO PAULO, SP</td>\n",
              "      <td>HÁ 23 DIAS</td>\n",
              "      <td>2021-10-18</td>\n",
              "      <td>NESSE PERÍODO DE PANDEMIA ESTAMOS TRABALHANDO ...</td>\n",
              "      <td>NÃO INFORMADO</td>\n",
              "    </tr>\n",
              "  </tbody>\n",
              "</table>\n",
              "</div>"
            ],
            "text/plain": [
              "                                            JobTitle  ...                       Salary\n",
              "0  NOVAESTÁGIO EM BUSINESS INTELLIGENCE | FOCO EM...  ...                NÃO INFORMADO\n",
              "1               NOVAESTÁGIO EM BUSINESS INTELLIGENCE  ...                NÃO INFORMADO\n",
              "2              NOVAANALISTA DE BUSINESS INTELLIGENCE  ...  R$ 2.585 - R$ 7.233 POR MÊS\n",
              "3           ESTAGIÁRIO DE BUSINESS INTELLIGENCE (BI)  ...                NÃO INFORMADO\n",
              "4           ANALISTA DE BUSINESS INTELLIGENCE JÚNIOR  ...                NÃO INFORMADO\n",
              "\n",
              "[5 rows x 7 columns]"
            ]
          },
          "metadata": {},
          "execution_count": 43
        }
      ]
    },
    {
      "cell_type": "markdown",
      "metadata": {
        "id": "aErP-m7Vnq1H"
      },
      "source": [
        "#### Verificando a quantidade de vagas que possuem o mesmo nome/cargo"
      ]
    },
    {
      "cell_type": "code",
      "metadata": {
        "colab": {
          "base_uri": "https://localhost:8080/",
          "height": 423
        },
        "id": "uXVx6L3kmIBl",
        "outputId": "3c0690cf-a64c-4f27-cb5a-fe4af3a157c9"
      },
      "source": [
        "df_1['JobTitle'].value_counts(dropna = False).reset_index()"
      ],
      "execution_count": null,
      "outputs": [
        {
          "output_type": "execute_result",
          "data": {
            "text/html": [
              "<div>\n",
              "<style scoped>\n",
              "    .dataframe tbody tr th:only-of-type {\n",
              "        vertical-align: middle;\n",
              "    }\n",
              "\n",
              "    .dataframe tbody tr th {\n",
              "        vertical-align: top;\n",
              "    }\n",
              "\n",
              "    .dataframe thead th {\n",
              "        text-align: right;\n",
              "    }\n",
              "</style>\n",
              "<table border=\"1\" class=\"dataframe\">\n",
              "  <thead>\n",
              "    <tr style=\"text-align: right;\">\n",
              "      <th></th>\n",
              "      <th>index</th>\n",
              "      <th>JobTitle</th>\n",
              "    </tr>\n",
              "  </thead>\n",
              "  <tbody>\n",
              "    <tr>\n",
              "      <th>0</th>\n",
              "      <td>ANALISTA DE BI</td>\n",
              "      <td>21</td>\n",
              "    </tr>\n",
              "    <tr>\n",
              "      <th>1</th>\n",
              "      <td>ANALISTA DE BUSINESS INTELLIGENCE</td>\n",
              "      <td>8</td>\n",
              "    </tr>\n",
              "    <tr>\n",
              "      <th>2</th>\n",
              "      <td>ESPECIALISTA DE BI</td>\n",
              "      <td>8</td>\n",
              "    </tr>\n",
              "    <tr>\n",
              "      <th>3</th>\n",
              "      <td>COORDENADOR DE BI</td>\n",
              "      <td>6</td>\n",
              "    </tr>\n",
              "    <tr>\n",
              "      <th>4</th>\n",
              "      <td>ANALISTA DE BI SR</td>\n",
              "      <td>5</td>\n",
              "    </tr>\n",
              "    <tr>\n",
              "      <th>...</th>\n",
              "      <td>...</td>\n",
              "      <td>...</td>\n",
              "    </tr>\n",
              "    <tr>\n",
              "      <th>669</th>\n",
              "      <td>NOVAANALISTA BI - PLENO</td>\n",
              "      <td>1</td>\n",
              "    </tr>\n",
              "    <tr>\n",
              "      <th>670</th>\n",
              "      <td>ESTAGIÁRIO DE BUSINESS INTELLIGENCE &amp; ALOCAÇÃO...</td>\n",
              "      <td>1</td>\n",
              "    </tr>\n",
              "    <tr>\n",
              "      <th>671</th>\n",
              "      <td>BANCO ORIGINAL - ESPECIALISTA EM BUSINESS INTE...</td>\n",
              "      <td>1</td>\n",
              "    </tr>\n",
              "    <tr>\n",
              "      <th>672</th>\n",
              "      <td>CONSULTANT (TECHNICAL) - JAPANESE SPEAKING</td>\n",
              "      <td>1</td>\n",
              "    </tr>\n",
              "    <tr>\n",
              "      <th>673</th>\n",
              "      <td>ESTAGIÁRIO DE WEB ANALYTICS / BUSINESS INTELLI...</td>\n",
              "      <td>1</td>\n",
              "    </tr>\n",
              "  </tbody>\n",
              "</table>\n",
              "<p>674 rows × 2 columns</p>\n",
              "</div>"
            ],
            "text/plain": [
              "                                                 index  JobTitle\n",
              "0                                       ANALISTA DE BI        21\n",
              "1                    ANALISTA DE BUSINESS INTELLIGENCE         8\n",
              "2                                   ESPECIALISTA DE BI         8\n",
              "3                                    COORDENADOR DE BI         6\n",
              "4                                    ANALISTA DE BI SR         5\n",
              "..                                                 ...       ...\n",
              "669                            NOVAANALISTA BI - PLENO         1\n",
              "670  ESTAGIÁRIO DE BUSINESS INTELLIGENCE & ALOCAÇÃO...         1\n",
              "671  BANCO ORIGINAL - ESPECIALISTA EM BUSINESS INTE...         1\n",
              "672         CONSULTANT (TECHNICAL) - JAPANESE SPEAKING         1\n",
              "673  ESTAGIÁRIO DE WEB ANALYTICS / BUSINESS INTELLI...         1\n",
              "\n",
              "[674 rows x 2 columns]"
            ]
          },
          "metadata": {},
          "execution_count": 48
        }
      ]
    },
    {
      "cell_type": "markdown",
      "metadata": {
        "id": "a_YqFy8Inyrj"
      },
      "source": [
        "##### **De 674 vagas/cargos, a maioria possui nome unico. Portanto, é viável o agrupamento dos títulos para melhor análise**\n"
      ]
    },
    {
      "cell_type": "markdown",
      "metadata": {
        "id": "9d2h2jMRnfNV"
      },
      "source": [
        "#### Listando os 50 primeiros titulos de trabalho por ordem alfabética para identificar oportunidade de agrupamento"
      ]
    },
    {
      "cell_type": "code",
      "metadata": {
        "colab": {
          "base_uri": "https://localhost:8080/"
        },
        "id": "Gu7DbBhinOmK",
        "outputId": "121c085b-8862-4044-b8d8-a81ed721e6b4"
      },
      "source": [
        "pd.Series(df_1['JobTitle'].unique()).sort_values().head(50)"
      ],
      "execution_count": null,
      "outputs": [
        {
          "output_type": "execute_result",
          "data": {
            "text/plain": [
              "374                     2022 INTERNSHIP PROGRAM - BRAZIL\n",
              "139                            3301 - CIENTISTA DE DADOS\n",
              "140                                  3382 - CONSULTOR BI\n",
              "256                                   4022 - ANALISTA BI\n",
              "316                                 716 - ANALISTA DE BI\n",
              "334                   ACCOUNT DEVELOPMENT REPRESENTATIVE\n",
              "375                                  ACCOUNT EXECUTIVE 6\n",
              "289             ACCOUNT EXECUTIVE CHANNELS - SISW 269647\n",
              "236                    ADMINISTRATIVE ASSISTANT - SENIOR\n",
              "145                                    AGRONOMIC ANALYST\n",
              "498                        AI & IOT DESIGN RESEARCH LEAD\n",
              "295                                     AI/ML SPECIALIST\n",
              "322    ALIBABA GROUP CATEGORY SPECIALIST/SENIOR SPECI...\n",
              "651    ALIBABA GROUP CATEGORY SPECIALIST/SENIOR SPECI...\n",
              "367    ALIBABA GROUP LOGISTICS & SELLER OPERATIONS SE...\n",
              "134     ALIBABA GROUP SUPPLY CHAIN & LOGISTICS BD BRAZIL\n",
              "654    ALIEXPRESS CATEGORY SPECIALIST/SENIOR SPECIALI...\n",
              "365    ALIEXPRESS CATEGORY SPECIALIST/SENIOR SPECIALI...\n",
              "259    ALIEXPRESS SUPPLY CHAIN & LOGISTICS MANAGER BR...\n",
              "591      ANALISTA (A) III DE DESENVOLVIMENTO FRONT - END\n",
              "235                           ANALISTA ABASTECIMENTO PL.\n",
              "155                        ANALISTA ADMINISTRATIVO JR EM\n",
              "130    ANALISTA ADMINISTRATIVO JÚNIOR (INFORMAÇÕES GE...\n",
              "359                         ANALISTA ANALYTICS (BI) - PL\n",
              "492                                ANALISTA ANALYTICS PL\n",
              "168                                          ANALISTA BI\n",
              "544                              ANALISTA BI & ANALYTICS\n",
              "79                                    ANALISTA BI - OLAP\n",
              "557                                  ANALISTA BI - PLENO\n",
              "495                           ANALISTA BI - PLENO/SÊNIOR\n",
              "628      ANALISTA BI / ANALYTICS SÊNIOR - SÃO PAULO - SP\n",
              "272                                    ANALISTA BI PL/SR\n",
              "578                                    ANALISTA BI PLENO\n",
              "663                             ANALISTA BI PLENO/SÊNIOR\n",
              "107                              ANALISTA BI POWERCENTER\n",
              "497                            ANALISTA BI SR (DATA VIZ)\n",
              "424                                      ANALISTA BI SR.\n",
              "42                   ANALISTA BUSINESS INTELLIGENCE (BI)\n",
              "72                     ANALISTA BUSINESS INTELLIGENCE PL\n",
              "86                     ANALISTA BUSINESS INTELLIGENCE SR\n",
              "345                            ANALISTA CARTEIRA PL (BI)\n",
              "231                                      ANALISTA CMI PL\n",
              "116                                   ANALISTA COMERCIAL\n",
              "623                                ANALISTA CSIRT SÊNIOR\n",
              "368                           ANALISTA DBM/BI - PL (SQL)\n",
              "650    ANALISTA DE ANALYTICS PLENO (ENGENHARIA DE DAD...\n",
              "210                                     ANALISTA DE B.I.\n",
              "63                                        ANALISTA DE BI\n",
              "575                        ANALISTA DE BI & ANALYTICS SR\n",
              "473                       ANALISTA DE BI (FOCO EM MÍDIA)\n",
              "dtype: object"
            ]
          },
          "metadata": {},
          "execution_count": 49
        }
      ]
    }
  ]
}